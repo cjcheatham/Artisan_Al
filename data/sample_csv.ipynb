{
 "cells": [
  {
   "cell_type": "code",
   "execution_count": 110,
   "id": "90ad7d75-14dc-45c6-9c02-66a0b062a659",
   "metadata": {},
   "outputs": [],
   "source": [
    "import pandas as pd\n",
    "import random, math"
   ]
  },
  {
   "cell_type": "code",
   "execution_count": 111,
   "id": "373cc8ae-f906-4c52-8f5b-020c7ad1f254",
   "metadata": {},
   "outputs": [],
   "source": [
    "file_path = Path(\"./Recipe generator/data/recipes.csv\")\n",
    "df = pd.read_csv(file_path)\n"
   ]
  },
  {
   "cell_type": "code",
   "execution_count": 112,
   "id": "8fd262da-dae2-4684-99cf-b16185c9015e",
   "metadata": {},
   "outputs": [
    {
     "data": {
      "text/plain": [
       "pandas.core.frame.DataFrame"
      ]
     },
     "execution_count": 112,
     "metadata": {},
     "output_type": "execute_result"
    }
   ],
   "source": [
    "df_trunc=pd.DataFrame\n",
    "df_trunc"
   ]
  },
  {
   "cell_type": "code",
   "execution_count": 113,
   "id": "b5c04f1f-d8d0-49ca-8aed-a50bde1ccb05",
   "metadata": {},
   "outputs": [
    {
     "name": "stderr",
     "output_type": "stream",
     "text": [
      "/var/folders/vf/vmk7hfw95j1f6p8wn00dpk3m0000gn/T/ipykernel_25157/2096044111.py:2: SettingWithCopyWarning: \n",
      "A value is trying to be set on a copy of a slice from a DataFrame\n",
      "\n",
      "See the caveats in the documentation: https://pandas.pydata.org/pandas-docs/stable/user_guide/indexing.html#returning-a-view-versus-a-copy\n",
      "  df_trunc.drop(index=0,inplace=True)\n"
     ]
    }
   ],
   "source": [
    "df_trunc=df.iloc[[0]]\n",
    "df_trunc.drop(index=0,inplace=True)"
   ]
  },
  {
   "cell_type": "code",
   "execution_count": 114,
   "id": "883691d4-8667-475f-9e3f-6da135550a66",
   "metadata": {},
   "outputs": [
    {
     "data": {
      "text/plain": [
       "(5000, 28)"
      ]
     },
     "execution_count": 114,
     "metadata": {},
     "output_type": "execute_result"
    }
   ],
   "source": [
    "for j in range(0,5000):\n",
    "    df_trunc = pd.concat([df_trunc, df.iloc[[math.ceil(random.random()*len(df))]]])\n",
    "df_trunc.drop_duplicates()\n",
    "df_trunc.shape"
   ]
  },
  {
   "cell_type": "code",
   "execution_count": 115,
   "id": "e85f30af-8bfa-44c8-b807-5b90046189da",
   "metadata": {},
   "outputs": [],
   "source": [
    "df_trunc.to_csv(\"./Recipe generator/data/recipes_sample.csv\",index=False)"
   ]
  },
  {
   "cell_type": "code",
   "execution_count": null,
   "id": "72e47a21-68da-4848-80ac-e96e3e33a50a",
   "metadata": {},
   "outputs": [],
   "source": []
  },
  {
   "cell_type": "code",
   "execution_count": null,
   "id": "123292f0-511c-4b38-98c1-382cee6b0eb5",
   "metadata": {},
   "outputs": [],
   "source": []
  }
 ],
 "metadata": {
  "kernelspec": {
   "display_name": "Python 3 (ipykernel)",
   "language": "python",
   "name": "python3"
  },
  "language_info": {
   "codemirror_mode": {
    "name": "ipython",
    "version": 3
   },
   "file_extension": ".py",
   "mimetype": "text/x-python",
   "name": "python",
   "nbconvert_exporter": "python",
   "pygments_lexer": "ipython3",
   "version": "3.11.7"
  }
 },
 "nbformat": 4,
 "nbformat_minor": 5
}
