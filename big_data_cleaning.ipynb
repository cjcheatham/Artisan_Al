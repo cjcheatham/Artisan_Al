version https://git-lfs.github.com/spec/v1
oid sha256:5286473da95a519abda1b831d8c4f1a7c2cdd3b7643d2b156e8ea6438ae02189
size 100223
