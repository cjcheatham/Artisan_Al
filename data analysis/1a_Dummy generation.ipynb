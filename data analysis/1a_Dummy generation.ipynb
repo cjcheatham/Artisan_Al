{
 "cells": [
  {
   "cell_type": "code",
   "execution_count": 39,
   "id": "425c12f4-2871-4fcd-998b-ca46c47977ed",
   "metadata": {},
   "outputs": [],
   "source": [
    "import pandas as pd\n",
    "from pathlib import Path\n",
    "import hvplot.pandas\n",
    "from sklearn.cluster import KMeans\n",
    "from sklearn.ensemble import RandomForestClassifier\n",
    "from sklearn.preprocessing import StandardScaler\n",
    "from sklearn.model_selection import train_test_split\n",
    "from sklearn.metrics import confusion_matrix, accuracy_score, classification_report\n",
    "from sklearn.decomposition import PCA\n",
    "\n",
    "from tqdm.notebook import tqdm\n",
    "import time\n",
    "pd.options.display.max_rows = 100"
   ]
  },
  {
   "cell_type": "code",
   "execution_count": 49,
   "id": "327ef7ba-a191-4d2b-acb8-eee219bce557",
   "metadata": {},
   "outputs": [],
   "source": [
    "#load dataset\n",
    "file_path = Path(\"./data/raw/recipes.csv\")\n",
    "# file_path = Path(\"./data/raw/recipes_sample.csv\") #For quick calculation\n",
    "df = pd.read_csv(file_path)"
   ]
  },
  {
   "cell_type": "markdown",
   "id": "13e96bfa-a6a1-49b6-8691-e6e8af00f092",
   "metadata": {},
   "source": [
    "## Data Cleanup"
   ]
  },
  {
   "cell_type": "code",
   "execution_count": 112,
   "id": "3464111b-1139-4151-9c00-e4e83507d18c",
   "metadata": {},
   "outputs": [],
   "source": [
    "#dataset cleanup\n",
    "df.dropna(subset=['AggregatedRating'], axis=0, inplace=True)\n",
    "df.dropna(subset=['RecipeInstructions'], axis=0, inplace=True)\n",
    "df.dropna(subset=['RecipeCategory'], axis=0, inplace=True)\n",
    "df.drop(index=df[df['RecipeCategory'].str.lower().str.contains('dessert')].index,inplace=True)\n",
    "temp = df['Images']=='character(0)'\n",
    "df.drop(index=df[temp].index,inplace=True)\n",
    "# dfdf.set_index\n",
    "# df1.shape"
   ]
  },
  {
   "cell_type": "code",
   "execution_count": 126,
   "id": "27245d08-afa0-4493-8e48-5d3f4e037a52",
   "metadata": {},
   "outputs": [
    {
     "data": {
      "text/plain": [
       "(123613, 28)"
      ]
     },
     "execution_count": 126,
     "metadata": {},
     "output_type": "execute_result"
    }
   ],
   "source": [
    "df.shape"
   ]
  },
  {
   "cell_type": "code",
   "execution_count": 128,
   "id": "d4f78a00-cc5d-4c02-a4a3-657d747cc13a",
   "metadata": {},
   "outputs": [],
   "source": [
    "#Export filtered dataset\n",
    "df.to_csv('./data/raw/recipes_filtered.csv',index=False)\n"
   ]
  },
  {
   "cell_type": "code",
   "execution_count": 129,
   "id": "8680b5e3-85df-49e8-8cd9-698c8d0dbb7f",
   "metadata": {},
   "outputs": [
    {
     "data": {
      "text/plain": [
       "AggregatedRating\n",
       "5.0    86059\n",
       "4.5    18917\n",
       "4.0    14530\n",
       "3.0     2118\n",
       "3.5     1401\n",
       "2.0      253\n",
       "2.5      163\n",
       "1.0      160\n",
       "1.5       12\n",
       "Name: count, dtype: int64"
      ]
     },
     "execution_count": 129,
     "metadata": {},
     "output_type": "execute_result"
    }
   ],
   "source": [
    "#Rating count\n",
    "df[\"AggregatedRating\"].value_counts()\n"
   ]
  },
  {
   "cell_type": "code",
   "execution_count": 130,
   "id": "bcfd466c-ca6e-4ef8-b0fc-cd0b88937393",
   "metadata": {},
   "outputs": [
    {
     "data": {
      "text/plain": [
       "(123613, 28)"
      ]
     },
     "execution_count": 130,
     "metadata": {},
     "output_type": "execute_result"
    }
   ],
   "source": [
    "df.shape"
   ]
  },
  {
   "cell_type": "markdown",
   "id": "f6aaf633-2b73-419f-b29d-5737e848bfc0",
   "metadata": {},
   "source": [
    "## Keyword Dummy generation"
   ]
  },
  {
   "cell_type": "code",
   "execution_count": 131,
   "id": "ee9e822f-a773-41f8-8276-6a00a7147983",
   "metadata": {},
   "outputs": [],
   "source": [
    "#String Splitting of each cell in order to run the Dummy code\n",
    "keywords=df[\"Keywords\"]\n",
    "\n",
    "temp =keywords.str.split(\"\\\"\",expand=True)\n",
    "dummiesk=pd.get_dummies(temp,dtype=int)\n",
    "dummiesk.columns=dummiesk.columns.str.lstrip('0123456789_').str.lower()"
   ]
  },
  {
   "cell_type": "code",
   "execution_count": 132,
   "id": "b33aed65-023c-4e90-827a-085fa4423245",
   "metadata": {},
   "outputs": [
    {
     "data": {
      "text/html": [
       "<div>\n",
       "<style scoped>\n",
       "    .dataframe tbody tr th:only-of-type {\n",
       "        vertical-align: middle;\n",
       "    }\n",
       "\n",
       "    .dataframe tbody tr th {\n",
       "        vertical-align: top;\n",
       "    }\n",
       "\n",
       "    .dataframe thead th {\n",
       "        text-align: right;\n",
       "    }\n",
       "</style>\n",
       "<table border=\"1\" class=\"dataframe\">\n",
       "  <thead>\n",
       "    <tr style=\"text-align: right;\">\n",
       "      <th></th>\n",
       "      <th>index</th>\n",
       "      <th>0</th>\n",
       "    </tr>\n",
       "  </thead>\n",
       "  <tbody>\n",
       "    <tr>\n",
       "      <th>0</th>\n",
       "      <td>0</td>\n",
       "      <td></td>\n",
       "    </tr>\n",
       "    <tr>\n",
       "      <th>1</th>\n",
       "      <td>1</td>\n",
       "      <td>c(</td>\n",
       "    </tr>\n",
       "    <tr>\n",
       "      <th>2</th>\n",
       "      <td>2</td>\n",
       "      <td>&lt; 15 mins</td>\n",
       "    </tr>\n",
       "    <tr>\n",
       "      <th>3</th>\n",
       "      <td>3</td>\n",
       "      <td>&lt; 30 mins</td>\n",
       "    </tr>\n",
       "    <tr>\n",
       "      <th>4</th>\n",
       "      <td>4</td>\n",
       "      <td>&lt; 4 hours</td>\n",
       "    </tr>\n",
       "    <tr>\n",
       "      <th>...</th>\n",
       "      <td>...</td>\n",
       "      <td>...</td>\n",
       "    </tr>\n",
       "    <tr>\n",
       "      <th>2250</th>\n",
       "      <td>2250</td>\n",
       "      <td>inexpensive</td>\n",
       "    </tr>\n",
       "    <tr>\n",
       "      <th>2251</th>\n",
       "      <td>2251</td>\n",
       "      <td>)</td>\n",
       "    </tr>\n",
       "    <tr>\n",
       "      <th>2252</th>\n",
       "      <td>2252</td>\n",
       "      <td>,</td>\n",
       "    </tr>\n",
       "    <tr>\n",
       "      <th>2253</th>\n",
       "      <td>2253</td>\n",
       "      <td>inexpensive</td>\n",
       "    </tr>\n",
       "    <tr>\n",
       "      <th>2254</th>\n",
       "      <td>2254</td>\n",
       "      <td>)</td>\n",
       "    </tr>\n",
       "  </tbody>\n",
       "</table>\n",
       "<p>2255 rows × 2 columns</p>\n",
       "</div>"
      ],
      "text/plain": [
       "      index            0\n",
       "0         0             \n",
       "1         1           c(\n",
       "2         2    < 15 mins\n",
       "3         3    < 30 mins\n",
       "4         4    < 4 hours\n",
       "...     ...          ...\n",
       "2250   2250  inexpensive\n",
       "2251   2251            )\n",
       "2252   2252           , \n",
       "2253   2253  inexpensive\n",
       "2254   2254            )\n",
       "\n",
       "[2255 rows x 2 columns]"
      ]
     },
     "execution_count": 132,
     "metadata": {},
     "output_type": "execute_result"
    }
   ],
   "source": [
    "pd.DataFrame(dummiesk.columns).reset_index()"
   ]
  },
  {
   "cell_type": "code",
   "execution_count": 133,
   "id": "1ccb5356-0987-4534-a4a4-3e725d4e777c",
   "metadata": {},
   "outputs": [
    {
     "data": {
      "application/vnd.jupyter.widget-view+json": {
       "model_id": "416ceb3c485c498f9358477e0cb40de9",
       "version_major": 2,
       "version_minor": 0
      },
      "text/plain": [
       "  0%|          | 0/2255 [00:00<?, ?it/s]"
      ]
     },
     "metadata": {},
     "output_type": "display_data"
    }
   ],
   "source": [
    "#Merging duplicate dummy columns converting all into binary\n",
    "duplicate_rows=pd.DataFrame(dummiesk.columns).reset_index()\n",
    "duplicate_rows2=duplicate_rows.copy()\n",
    "\n",
    "for j in tqdm(duplicate_rows.index):\n",
    "    try:\n",
    "        drop_cols=[]\n",
    "        for k in duplicate_rows2.index:\n",
    "            if k<(j+1):continue\n",
    "            if duplicate_rows.loc[j,0]==duplicate_rows.loc[k,0]:\n",
    "                dummiesk.iloc[:,j]=dummiesk.iloc[:,j]+dummiesk.iloc[:,k]\n",
    "                drop_cols.append(k) ,\n",
    "        duplicate_rows2.drop(index=drop_cols, inplace=True)\n",
    "    except:\n",
    "        continue\n",
    "dummiesk = dummiesk.iloc[:,duplicate_rows2.index]\n",
    "dummiesk.drop(columns=['c(', ')', '', ', '], inplace=True)"
   ]
  },
  {
   "cell_type": "code",
   "execution_count": 134,
   "id": "6ae41078-a01e-4102-89e9-8395280aeaad",
   "metadata": {},
   "outputs": [],
   "source": [
    "#Export dummy file\n",
    "df_trunc=pd.concat([df, dummiesk],axis=1)\n",
    "df_trunc.to_csv('./data/dummies/Keyword_dummy.csv', index=False)"
   ]
  },
  {
   "cell_type": "code",
   "execution_count": 135,
   "id": "c2ac7a00-48f0-4861-88b6-3aca714ce887",
   "metadata": {},
   "outputs": [
    {
     "data": {
      "text/plain": [
       "(123613, 317)"
      ]
     },
     "execution_count": 135,
     "metadata": {},
     "output_type": "execute_result"
    }
   ],
   "source": [
    "df_trunc.shape"
   ]
  },
  {
   "cell_type": "markdown",
   "id": "e15c5942-c884-47b3-8f52-7075c091686e",
   "metadata": {},
   "source": [
    "## Ingredient Dummy Generation"
   ]
  },
  {
   "cell_type": "code",
   "execution_count": 136,
   "id": "6dc91c5b-9a57-4624-8016-bd29051ea0ff",
   "metadata": {},
   "outputs": [],
   "source": [
    "#Similar flow to Keyword flow. \n",
    "#String Splitting of each cell in order to run the Dummy code\n",
    "ingredients=df[\"RecipeIngredientParts\"]\n",
    "\n",
    "temp =ingredients.str.split(\"\\\"\",expand=True)\n",
    "dummies=pd.get_dummies(temp,dtype=int)\n",
    "dummies.columns=dummies.columns.str.lstrip('0123456789_').str.lower()"
   ]
  },
  {
   "cell_type": "code",
   "execution_count": 137,
   "id": "15230fd4-53ab-4e89-8087-bbb89e931eb1",
   "metadata": {},
   "outputs": [
    {
     "data": {
      "text/html": [
       "<div>\n",
       "<style scoped>\n",
       "    .dataframe tbody tr th:only-of-type {\n",
       "        vertical-align: middle;\n",
       "    }\n",
       "\n",
       "    .dataframe tbody tr th {\n",
       "        vertical-align: top;\n",
       "    }\n",
       "\n",
       "    .dataframe thead th {\n",
       "        text-align: right;\n",
       "    }\n",
       "</style>\n",
       "<table border=\"1\" class=\"dataframe\">\n",
       "  <thead>\n",
       "    <tr style=\"text-align: right;\">\n",
       "      <th></th>\n",
       "      <th>index</th>\n",
       "      <th>0</th>\n",
       "    </tr>\n",
       "  </thead>\n",
       "  <tbody>\n",
       "    <tr>\n",
       "      <th>0</th>\n",
       "      <td>0</td>\n",
       "      <td></td>\n",
       "    </tr>\n",
       "    <tr>\n",
       "      <th>1</th>\n",
       "      <td>1</td>\n",
       "      <td>c(</td>\n",
       "    </tr>\n",
       "    <tr>\n",
       "      <th>2</th>\n",
       "      <td>2</td>\n",
       "      <td>character(0)</td>\n",
       "    </tr>\n",
       "    <tr>\n",
       "      <th>3</th>\n",
       "      <td>3</td>\n",
       "      <td>% fat buttermilk</td>\n",
       "    </tr>\n",
       "    <tr>\n",
       "      <th>4</th>\n",
       "      <td>4</td>\n",
       "      <td>% fat cottage cheese</td>\n",
       "    </tr>\n",
       "    <tr>\n",
       "      <th>...</th>\n",
       "      <td>...</td>\n",
       "      <td>...</td>\n",
       "    </tr>\n",
       "    <tr>\n",
       "      <th>39812</th>\n",
       "      <td>39812</td>\n",
       "      <td>,</td>\n",
       "    </tr>\n",
       "    <tr>\n",
       "      <th>39813</th>\n",
       "      <td>39813</td>\n",
       "      <td>white pepper</td>\n",
       "    </tr>\n",
       "    <tr>\n",
       "      <th>39814</th>\n",
       "      <td>39814</td>\n",
       "      <td>,</td>\n",
       "    </tr>\n",
       "    <tr>\n",
       "      <th>39815</th>\n",
       "      <td>39815</td>\n",
       "      <td>chinese five spice powder</td>\n",
       "    </tr>\n",
       "    <tr>\n",
       "      <th>39816</th>\n",
       "      <td>39816</td>\n",
       "      <td>)</td>\n",
       "    </tr>\n",
       "  </tbody>\n",
       "</table>\n",
       "<p>39817 rows × 2 columns</p>\n",
       "</div>"
      ],
      "text/plain": [
       "       index                          0\n",
       "0          0                           \n",
       "1          1                         c(\n",
       "2          2               character(0)\n",
       "3          3           % fat buttermilk\n",
       "4          4       % fat cottage cheese\n",
       "...      ...                        ...\n",
       "39812  39812                         , \n",
       "39813  39813               white pepper\n",
       "39814  39814                         , \n",
       "39815  39815  chinese five spice powder\n",
       "39816  39816                          )\n",
       "\n",
       "[39817 rows x 2 columns]"
      ]
     },
     "execution_count": 137,
     "metadata": {},
     "output_type": "execute_result"
    }
   ],
   "source": [
    "pd.DataFrame(dummies.columns).reset_index()"
   ]
  },
  {
   "cell_type": "code",
   "execution_count": 138,
   "id": "c93dff49-2e39-4b9e-9208-63ffb3db86f8",
   "metadata": {},
   "outputs": [
    {
     "data": {
      "application/vnd.jupyter.widget-view+json": {
       "model_id": "15e061b69a094ba390b5d52b73c11ad1",
       "version_major": 2,
       "version_minor": 0
      },
      "text/plain": [
       "  0%|          | 0/39817 [00:00<?, ?it/s]"
      ]
     },
     "metadata": {},
     "output_type": "display_data"
    }
   ],
   "source": [
    "#Merging duplicate dummy columns converting all into binary\n",
    "duplicate_rows=pd.DataFrame(dummies.columns).reset_index()\n",
    "duplicate_rows2=duplicate_rows.copy()\n",
    "\n",
    "for j in tqdm(duplicate_rows.index):\n",
    "    try:\n",
    "        drop_cols=[]\n",
    "        for k in duplicate_rows2.index:\n",
    "            if k<(j+1):continue\n",
    "            if duplicate_rows.loc[j,0]==duplicate_rows.loc[k,0]:\n",
    "                dummies.iloc[:,j]=dummies.iloc[:,j]+dummies.iloc[:,k]\n",
    "                drop_cols.append(k) ,\n",
    "        duplicate_rows2.drop(index=drop_cols, inplace=True)\n",
    "    except:\n",
    "        continue\n",
    "dummies = dummies.iloc[:,duplicate_rows2.index]\n",
    "dummies.drop(columns=['c(', ')', '', ', ', 'character(0)'], inplace=True)"
   ]
  },
  {
   "cell_type": "code",
   "execution_count": 186,
   "id": "57106387-32b9-41e1-8b74-a1a877836cd4",
   "metadata": {},
   "outputs": [],
   "source": [
    "#Truncate all original columns(str), keeping the binary columns for the algorithm and exporting dummy file\n",
    "df_trunc=pd.concat([df, dummies],axis=1)\n",
    "temp = df_trunc.iloc[:,28:].sum()<10\n",
    "df_trunc.drop(columns=temp[temp].index,inplace=True)\n",
    "df_trunc.to_csv('./data/dummies/ingredient_dummy.csv', index=False)"
   ]
  },
  {
   "cell_type": "code",
   "execution_count": 187,
   "id": "80ddafc2-7b37-4d5c-936b-1cbdf56ccef3",
   "metadata": {},
   "outputs": [
    {
     "data": {
      "text/plain": [
       "(123613, 2624)"
      ]
     },
     "execution_count": 187,
     "metadata": {},
     "output_type": "execute_result"
    }
   ],
   "source": [
    "df_trunc.shape"
   ]
  },
  {
   "cell_type": "code",
   "execution_count": null,
   "id": "cbb17488-df22-4eca-857a-fa96a4e7821c",
   "metadata": {},
   "outputs": [],
   "source": []
  }
 ],
 "metadata": {
  "kernelspec": {
   "display_name": "Python 3 (ipykernel)",
   "language": "python",
   "name": "python3"
  },
  "language_info": {
   "codemirror_mode": {
    "name": "ipython",
    "version": 3
   },
   "file_extension": ".py",
   "mimetype": "text/x-python",
   "name": "python",
   "nbconvert_exporter": "python",
   "pygments_lexer": "ipython3",
   "version": "3.11.7"
  }
 },
 "nbformat": 4,
 "nbformat_minor": 5
}
