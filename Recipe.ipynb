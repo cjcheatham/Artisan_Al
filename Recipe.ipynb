{
 "cells": [
  {
   "cell_type": "code",
   "execution_count": 1,
   "id": "cea4c634-c918-479d-ac4e-9ef8c4a24e32",
   "metadata": {},
   "outputs": [],
   "source": [
    "import pandas as pd"
   ]
  },
  {
   "cell_type": "code",
   "execution_count": 2,
   "id": "ef679065-6707-4db9-b809-124c2fc501a6",
   "metadata": {},
   "outputs": [],
   "source": [
    "# Read the CSV file into a DataFrame\n",
    "df = pd.read_csv(\"data/raw/recipes_sample.csv\")"
   ]
  },
  {
   "cell_type": "code",
   "execution_count": 3,
   "id": "72e47a21-68da-4848-80ac-e96e3e33a50a",
   "metadata": {},
   "outputs": [
    {
     "name": "stdout",
     "output_type": "stream",
     "text": [
      "<class 'pandas.core.frame.DataFrame'>\n",
      "RangeIndex: 5000 entries, 0 to 4999\n",
      "Data columns (total 28 columns):\n",
      " #   Column                      Non-Null Count  Dtype  \n",
      "---  ------                      --------------  -----  \n",
      " 0   RecipeId                    5000 non-null   int64  \n",
      " 1   Name                        5000 non-null   object \n",
      " 2   AuthorId                    5000 non-null   int64  \n",
      " 3   AuthorName                  5000 non-null   object \n",
      " 4   CookTime                    4183 non-null   object \n",
      " 5   PrepTime                    5000 non-null   object \n",
      " 6   TotalTime                   5000 non-null   object \n",
      " 7   DatePublished               5000 non-null   object \n",
      " 8   Description                 5000 non-null   object \n",
      " 9   Images                      5000 non-null   object \n",
      " 10  RecipeCategory              4998 non-null   object \n",
      " 11  Keywords                    4846 non-null   object \n",
      " 12  RecipeIngredientQuantities  5000 non-null   object \n",
      " 13  RecipeIngredientParts       5000 non-null   object \n",
      " 14  AggregatedRating            2573 non-null   float64\n",
      " 15  ReviewCount                 2643 non-null   float64\n",
      " 16  Calories                    5000 non-null   float64\n",
      " 17  FatContent                  5000 non-null   float64\n",
      " 18  SaturatedFatContent         5000 non-null   float64\n",
      " 19  CholesterolContent          5000 non-null   float64\n",
      " 20  SodiumContent               5000 non-null   float64\n",
      " 21  CarbohydrateContent         5000 non-null   float64\n",
      " 22  FiberContent                5000 non-null   float64\n",
      " 23  SugarContent                5000 non-null   float64\n",
      " 24  ProteinContent              5000 non-null   float64\n",
      " 25  RecipeServings              3204 non-null   float64\n",
      " 26  RecipeYield                 1617 non-null   object \n",
      " 27  RecipeInstructions          5000 non-null   object \n",
      "dtypes: float64(12), int64(2), object(14)\n",
      "memory usage: 1.1+ MB\n"
     ]
    }
   ],
   "source": [
    "# print all columns and verify if any missing values\n",
    "df.info()"
   ]
  },
  {
   "cell_type": "code",
   "execution_count": 4,
   "id": "123292f0-511c-4b38-98c1-382cee6b0eb5",
   "metadata": {},
   "outputs": [],
   "source": [
    "# Drop all columns that is not required for analysis\n",
    "clean_df = df.drop([\"AuthorName\", \"AuthorId\", \"DatePublished\", \"CookTime\", \"PrepTime\"], axis=1)"
   ]
  },
  {
   "cell_type": "code",
   "execution_count": 5,
   "id": "63452895-dbad-4c4e-869e-c4e8282e9428",
   "metadata": {},
   "outputs": [],
   "source": [
    "# fill NA in rating with 0 for 0 review\n",
    "clean_df['AggregatedRating'].fillna(0, inplace=True)\n",
    "clean_df['ReviewCount'].fillna(0, inplace=True)"
   ]
  },
  {
   "cell_type": "code",
   "execution_count": 6,
   "id": "e292331b-67b5-46e6-975f-c030ffe401b4",
   "metadata": {},
   "outputs": [],
   "source": [
    "# Splitting the 'RecipeYield' column into two new columns\n",
    "clean_df[['Serving', 'Unit']] = clean_df['RecipeYield'].str.split(' ', n=1, expand=True)\n",
    "\n",
    "# Converting 'Serving' column to integer\n",
    "clean_df['Serving'] = clean_df['Serving'].str.extract('(\\d+)').astype(float)\n",
    "\n",
    "# Dropping the original 'RecipeYield' column and the 'Unit' column\n",
    "clean_df.drop(['RecipeYield', 'Unit'], axis=1, inplace=True)"
   ]
  },
  {
   "cell_type": "code",
   "execution_count": 7,
   "id": "a421905b-66f5-416d-b9a1-63a8e0e6e196",
   "metadata": {},
   "outputs": [
    {
     "name": "stdout",
     "output_type": "stream",
     "text": [
      "<class 'pandas.core.frame.DataFrame'>\n",
      "RangeIndex: 5000 entries, 0 to 4999\n",
      "Data columns (total 23 columns):\n",
      " #   Column                      Non-Null Count  Dtype  \n",
      "---  ------                      --------------  -----  \n",
      " 0   RecipeId                    5000 non-null   int64  \n",
      " 1   Name                        5000 non-null   object \n",
      " 2   TotalTime                   5000 non-null   object \n",
      " 3   Description                 5000 non-null   object \n",
      " 4   Images                      5000 non-null   object \n",
      " 5   RecipeCategory              4998 non-null   object \n",
      " 6   Keywords                    4846 non-null   object \n",
      " 7   RecipeIngredientQuantities  5000 non-null   object \n",
      " 8   RecipeIngredientParts       5000 non-null   object \n",
      " 9   AggregatedRating            5000 non-null   float64\n",
      " 10  ReviewCount                 5000 non-null   float64\n",
      " 11  Calories                    5000 non-null   float64\n",
      " 12  FatContent                  5000 non-null   float64\n",
      " 13  SaturatedFatContent         5000 non-null   float64\n",
      " 14  CholesterolContent          5000 non-null   float64\n",
      " 15  SodiumContent               5000 non-null   float64\n",
      " 16  CarbohydrateContent         5000 non-null   float64\n",
      " 17  FiberContent                5000 non-null   float64\n",
      " 18  SugarContent                5000 non-null   float64\n",
      " 19  ProteinContent              5000 non-null   float64\n",
      " 20  RecipeServings              3204 non-null   float64\n",
      " 21  RecipeInstructions          5000 non-null   object \n",
      " 22  Serving                     1617 non-null   float64\n",
      "dtypes: float64(13), int64(1), object(9)\n",
      "memory usage: 898.6+ KB\n"
     ]
    }
   ],
   "source": [
    "clean_df.info()"
   ]
  },
  {
   "cell_type": "code",
   "execution_count": 8,
   "id": "6a1ded85-a623-4135-93f4-5fdf1fcf3142",
   "metadata": {},
   "outputs": [],
   "source": [
    "# Fill NA in \"RecipeServings\" with \"Serving\" value where \"RecipeServings\" is NA and \"Serving\" is not null\n",
    "clean_df.loc[clean_df['RecipeServings'].isna() & clean_df['Serving'].notna(), 'RecipeServings'] = clean_df['Serving']\n",
    "\n",
    "# Convert 'RecipeServings' column to integer type if necessary\n",
    "clean_df['RecipeServings'] = clean_df['RecipeServings'].astype(float)"
   ]
  },
  {
   "cell_type": "code",
   "execution_count": 9,
   "id": "f3b8ec02-98a7-4420-82b7-2599c729a86b",
   "metadata": {},
   "outputs": [],
   "source": [
    "# Fill NA in \"Keywords\" with values from \"RecipeIngredientParts\"\n",
    "clean_df['Keywords'].fillna(clean_df['RecipeIngredientParts'], inplace=True)"
   ]
  },
  {
   "cell_type": "code",
   "execution_count": 10,
   "id": "e6a2e603-edcb-482a-8294-3089c15059c9",
   "metadata": {},
   "outputs": [],
   "source": [
    "clean_df = clean_df.drop([\"Serving\"], axis=1)"
   ]
  },
  {
   "cell_type": "code",
   "execution_count": 11,
   "id": "bd5fe386-ade4-441e-a17e-113740886f53",
   "metadata": {},
   "outputs": [],
   "source": [
    "# Fill NA in \"RecipeServings\" with 1\n",
    "clean_df['RecipeServings'].fillna(1, inplace=True)"
   ]
  },
  {
   "cell_type": "code",
   "execution_count": 12,
   "id": "65309a25-0743-48e8-a8c5-de95a4330a06",
   "metadata": {},
   "outputs": [
    {
     "name": "stdout",
     "output_type": "stream",
     "text": [
      "<class 'pandas.core.frame.DataFrame'>\n",
      "Index: 4998 entries, 0 to 4999\n",
      "Data columns (total 22 columns):\n",
      " #   Column                      Non-Null Count  Dtype  \n",
      "---  ------                      --------------  -----  \n",
      " 0   RecipeId                    4998 non-null   int64  \n",
      " 1   Name                        4998 non-null   object \n",
      " 2   TotalTime                   4998 non-null   object \n",
      " 3   Description                 4998 non-null   object \n",
      " 4   Images                      4998 non-null   object \n",
      " 5   RecipeCategory              4998 non-null   object \n",
      " 6   Keywords                    4998 non-null   object \n",
      " 7   RecipeIngredientQuantities  4998 non-null   object \n",
      " 8   RecipeIngredientParts       4998 non-null   object \n",
      " 9   AggregatedRating            4998 non-null   float64\n",
      " 10  ReviewCount                 4998 non-null   float64\n",
      " 11  Calories                    4998 non-null   float64\n",
      " 12  FatContent                  4998 non-null   float64\n",
      " 13  SaturatedFatContent         4998 non-null   float64\n",
      " 14  CholesterolContent          4998 non-null   float64\n",
      " 15  SodiumContent               4998 non-null   float64\n",
      " 16  CarbohydrateContent         4998 non-null   float64\n",
      " 17  FiberContent                4998 non-null   float64\n",
      " 18  SugarContent                4998 non-null   float64\n",
      " 19  ProteinContent              4998 non-null   float64\n",
      " 20  RecipeServings              4998 non-null   float64\n",
      " 21  RecipeInstructions          4998 non-null   object \n",
      "dtypes: float64(12), int64(1), object(9)\n",
      "memory usage: 898.1+ KB\n"
     ]
    }
   ],
   "source": [
    "# Remove rows with NA in \"RecipeCategory\"\n",
    "clean_df = clean_df.dropna(subset=['RecipeCategory'])\n",
    "clean_df.info()"
   ]
  },
  {
   "cell_type": "code",
   "execution_count": 14,
   "id": "b654062e-3a7d-4db3-9ed0-94776f2c2ac8",
   "metadata": {},
   "outputs": [],
   "source": [
    "# Save clean data to a new CSV file\n",
    "clean_df.to_csv(\"data/clean/recipes.csv\", index=False)"
   ]
  },
  {
   "cell_type": "code",
   "execution_count": null,
   "id": "77cb7e60-1acb-49a9-8582-5c76134df693",
   "metadata": {},
   "outputs": [],
   "source": []
  },
  {
   "cell_type": "code",
   "execution_count": null,
   "id": "07a316dd-13a4-4180-adb3-d91045104efe",
   "metadata": {},
   "outputs": [],
   "source": []
  },
  {
   "cell_type": "code",
   "execution_count": null,
   "id": "1ac9e5a3-26b2-4f0b-8ce5-c3afbe6a5f7a",
   "metadata": {},
   "outputs": [],
   "source": []
  }
 ],
 "metadata": {
  "kernelspec": {
   "display_name": "Python 3 (ipykernel)",
   "language": "python",
   "name": "python3"
  },
  "language_info": {
   "codemirror_mode": {
    "name": "ipython",
    "version": 3
   },
   "file_extension": ".py",
   "mimetype": "text/x-python",
   "name": "python",
   "nbconvert_exporter": "python",
   "pygments_lexer": "ipython3",
   "version": "3.11.4"
  }
 },
 "nbformat": 4,
 "nbformat_minor": 5
}
