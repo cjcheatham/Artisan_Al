# Importing necessary libraries
from sklearn.model_selection import train_test_split, GridSearchCV
from sklearn.ensemble import RandomForestClassifier
from sklearn.metrics import classification_report, accuracy_score
import matplotlib.pyplot as plt
import numpy as np
import pandas as pd
import joblib
import time

# Read the CSV file into a Pandas DataFrame
ML_test_df = pd.read_csv("data/clean/ML_test_recipes.csv")
ML_test_df.info()


# Create a new DataFrame named description_df[] from new_data
training_df = ML_test_df[["RecipeId", "Calories", "FatContent", "SaturatedFatContent","CholesterolContent", 
                           "SodiumContent", "CarbohydrateContent", "FiberContent","SugarContent",
                           "ProteinContent", "RecipeServings", "Low Sodium", "Low Calorie","High Protein",
                           "Low Fat", "High Fat", "High Fiber", "Low Carb","Low Cholesterol", "Low Sugar"
                           ]].copy()
 
# Save it to a CSV file
training_df.info()


# Save it to a CSV file
training_df.to_csv("data/SQL_Data/receipt_description.csv", index=False)


from pyspark.sql import SparkSession

# Create a SparkSession
spark = SparkSession.builder \
    .appName("ML Training") \
    .getOrCreate()

# Load data from CSV using Spark
df = spark.read.csv("data/SQL_Data/receipt_description.csv", header=True, inferSchema=True)

# Convert Spark DataFrame to Pandas DataFrame
ML_test_df = df.toPandas()

# Stop the SparkSession
spark.stop()


# Define features (X) and target variable (y)
# Features
X = ML_test_df.drop(columns=['Low Sodium', 'Low Calorie', 'High Protein', 'Low Fat', 'High Fat',	
                             'High Fiber', 'Low Carb', 'Low Cholesterol', 'Low Sugar'])
# Labels for multiple health attributes
y = ML_test_df[['Low Sodium', 'Low Calorie', 'High Protein', 'Low Fat',	'High Fat',	'High Fiber', 
                'Low Carb', 'Low Cholesterol', 'Low Sugar']]  # Target variable

# Splitting the data into training and testing sets
X_train, X_test, y_train, y_test = train_test_split(X, y, test_size=0.2, random_state=42)


# Model Selection with Hyperparameter Tuning using GridSearchCV
param_grid = {
    'n_estimators': [100, 200, 300],
    'max_depth': [None, 10, 20],
    'min_samples_split': [2, 5, 10],
    'min_samples_leaf': [1, 2, 4]
}

grid_search = GridSearchCV(RandomForestClassifier(), param_grid, cv=5, n_jobs=-1)
grid_search.fit(X_train, y_train)

best_model = grid_search.best_estimator_


# Start the timer
start_time = time.time()

# Training the Best Model
best_model.fit(X_train, y_train)


# End the timer and calculate the duration
training_duration = time.time() - start_time

# Make predictions
y_pred = best_model.predict(X_test)

# # Model Evaluation
print("Training duration:", training_duration, "seconds")
print("Classification Report:")
print(classification_report(y_test, y_pred))

# Calculating the accuracy of the model
accuracy = accuracy_score(y_test, y_pred)
print("Accuracy of Random Forest classifier:", accuracy)


# Class labels
classes = ['Low Sodium', 'Low Calorie', 'High Protein', 'Low Fat', 'High Fat', 
           'High Fiber', 'Low Carb', 'Low Cholesterol', 'Low Sugar']

# Precision, recall, and F1-score values for each class
precision = [0.99, 1.00, 1.00, 1.00, 1.00, 1.00, 1.00, 1.00, 1.00]
recall = [0.95, 0.99, 0.99, 0.88, 0.98, 0.91, 0.99, 1.00, 1.00]
f1_score = [0.97, 0.99, 0.99, 0.94, 0.99, 0.95, 0.99, 1.00, 1.00]

# Set width of bar
bar_width = 0.25

# Set position of bar on X axis
r1 = np.arange(len(precision))
r2 = [x + bar_width for x in r1]
r3 = [x + bar_width for x in r2]

# Make the plot
plt.figure(figsize=(12, 6))
plt.bar(r1, precision, color='b', width=bar_width, edgecolor='grey', label='Precision')
plt.bar(r2, recall, color='g', width=bar_width, edgecolor='grey', label='Recall')
plt.bar(r3, f1_score, color='r', width=bar_width, edgecolor='grey', label='F1-score')

# Add xticks on the middle of the group bars
plt.xlabel('Class', fontweight='bold')
plt.xticks([r + bar_width for r in range(len(precision))], classes, rotation=45)

# Add y label
plt.ylabel('Scores', fontweight='bold')

# Create legend & Show graphic
plt.legend()
plt.title('Classification Metrics by Class')
plt.tight_layout()
plt.show()


# Save the best model to a file
joblib.dump(best_model, 'data/MLmodel/best_model.pkl')






