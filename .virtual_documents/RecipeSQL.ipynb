import matplotlib.pyplot as plt
import numpy as np
import pandas as pd


# Read the new data
df = pd.read_csv('data/raw/recipes_sample.csv')


# Drop all columns that is not required for analysis
new_data = df.drop(["AuthorName", "AuthorId", "DatePublished", "CookTime", "PrepTime"], axis=1)

# Drop rows with NA values in 'AggregatedRating' and 'ReviewCount' columns where no reviews
# new_data.dropna(subset=['AggregatedRating', 'ReviewCount'], inplace=True)

# Fill NaN values in 'AggregatedRating' and 'ReviewCount' columns with 0
new_data['AggregatedRating'].fillna(0, inplace=True)
new_data['ReviewCount'].fillna(0, inplace=True)

# Splitting the 'RecipeYield' column into two new columns
new_data[['Serving', 'Unit']] = new_data['RecipeYield'].str.split(' ', n=1, expand=True)

# Converting 'Serving' column to integer
new_data['Serving'] = new_data['Serving'].str.extract('(\d+)').astype(float)

# Dropping the original 'RecipeYield' column and the 'Unit' column
new_data.drop(['RecipeYield', 'Unit'], axis=1, inplace=True)

# Fill NA in "RecipeServings" with "Serving" value where "RecipeServings" is NA and "Serving" is not null
new_data.loc[new_data['RecipeServings'].isna() & new_data['Serving'].notna(), 'RecipeServings'] = new_data['Serving']

# Convert 'RecipeServings' column to integer type if necessary
new_data['RecipeServings'] = new_data['RecipeServings'].astype(float)

# Fill NA in "Keywords" with values from "RecipeIngredientParts"
new_data['Keywords'].fillna(new_data['RecipeIngredientParts'], inplace=True)

new_data = new_data.drop(["Serving"], axis=1)

# Fill NA in "RecipeServings" with 1
new_data['RecipeServings'].fillna(1, inplace=True)

# Remove rows with NA in "RecipeCategory"
new_data = new_data.dropna(subset=['RecipeCategory', 'Description', 'RecipeIngredientQuantities'])

# Remove "PT" prefix
new_data['TotalTime'] = new_data['TotalTime'].str.replace("PT", "")

# Remove "c" at the beginning and parentheses from required columns
new_data['Keywords'] = new_data['Keywords'].str.replace(r'^c|[()]', '', regex=True)
new_data['RecipeIngredientQuantities'] = new_data['RecipeIngredientQuantities'].str.replace(r'^c|[()]', '', regex=True)
new_data['RecipeIngredientParts'] = new_data['RecipeIngredientParts'].str.replace(r'^c|[()]', '', regex=True)
new_data['RecipeInstructions'] = new_data['RecipeInstructions'].str.replace(r'^c|[()]', '', regex=True)
new_data['Images'] = new_data['Images'].str.replace(r'^c|[()]', '', regex=True)


new_data.head()


# Create a new DataFrame named description_df[] from new_data
description_df = new_data[["RecipeId", "Description"]].copy()

# Save it to a CSV file
description_df.to_csv("data/SQL_Data/receipt_description.csv", index=False)


description_df.head()


# Create a new DataFrame named keywords_df[] from new_data
keywords_df = new_data[["RecipeId", "Keywords"]].copy()

# Save it to a CSV file
# keywords_df.to_csv("data/SQL_Data/receipt_keywords.csv", index=False)


# Iterate through each row
for index, row in keywords_df.iterrows():
    # Iterate through each keyword in the "Keywords" list of the current row
    for i, keyword in enumerate(row['Keywords'].split(',')):  # Split by comma
        # Create new column name dynamically
        new_col_name = f"Keywords_{i+1}"
        # Remove double quotes from the keyword and strip any leading/trailing whitespace
        keyword_cleaned = keyword.strip().replace('"', '')
        # Set the value of the new column
        keywords_df.at[index, new_col_name] = keyword_cleaned

# Display the resulting DataFrame
print(keywords_df.head())









