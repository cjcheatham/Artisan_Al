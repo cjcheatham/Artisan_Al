import pandas as pd


# Read the CSV file into a DataFrame
df = pd.read_csv("data/raw/recipes_sample.csv")


# print all columns and verify if any missing values
df.info()


# Drop all columns that is not required for analysis
clean_df = df.drop(["AuthorName", "AuthorId", "DatePublished", "CookTime", "PrepTime"], axis=1)


# fill NA in rating with 0 for 0 review
clean_df['AggregatedRating'].fillna(0, inplace=True)
clean_df['ReviewCount'].fillna(0, inplace=True)


# Splitting the 'RecipeYield' column into two new columns
clean_df[['Serving', 'Unit']] = clean_df['RecipeYield'].str.split(' ', n=1, expand=True)

# Converting 'Serving' column to integer
clean_df['Serving'] = clean_df['Serving'].str.extract('(\d+)').astype(float)

# Dropping the original 'RecipeYield' column and the 'Unit' column
clean_df.drop(['RecipeYield', 'Unit'], axis=1, inplace=True)


clean_df.info()


# Fill NA in "RecipeServings" with "Serving" value where "RecipeServings" is NA and "Serving" is not null
clean_df.loc[clean_df['RecipeServings'].isna() & clean_df['Serving'].notna(), 'RecipeServings'] = clean_df['Serving']

# Convert 'RecipeServings' column to integer type if necessary
clean_df['RecipeServings'] = clean_df['RecipeServings'].astype(float)


# Fill NA in "Keywords" with values from "RecipeIngredientParts"
clean_df['Keywords'].fillna(clean_df['RecipeIngredientParts'], inplace=True)


clean_df = clean_df.drop(["Serving"], axis=1)


# Fill NA in "RecipeServings" with 1
clean_df['RecipeServings'].fillna(1, inplace=True)


# Remove rows with NA in "RecipeCategory"
clean_df = clean_df.dropna(subset=['RecipeCategory', 'Description', 'RecipeIngredientQuantities'])
clean_df.info()


# clean_df.head()





# Remove "PT" prefix
clean_df['TotalTime'] = clean_df['TotalTime'].str.replace("PT", "")
clean_df.head()


# Create a new column "URL" with the initial value from "Name" and "RecipeId" column
# Food.com url example "https://www.food.com/recipe/japanese-pumpkin-soup-kabocha-soup-88935"

#Create new column URL to store generated URL Link
clean_df['URL'] = clean_df['Name']

# Remove parentheses, dashes, and commas from the "URL" column
clean_df['URL'] = clean_df['URL'].str.replace(r'[\(\)\-,]', '')  

# Select the "URL" column and apply transformations
clean_df['URL'] = clean_df['URL'].str.replace(' ', '-')  # Replace spaces with hyphens
clean_df['URL'] = clean_df['URL'].str.lower()  # Convert text to lowercase

# Concatenate "https://www.food.com/recipe/" with the modified "URL" column
clean_df['URL'] = 'https://www.food.com/recipe/' + clean_df['URL'] + '-' + clean_df['RecipeId'].astype(str)
clean_df['URL']





import re

# Remove "c" at the beginning and parentheses from each value in the "RecipeIngredientParts" column
#clean_df['RecipeIngredientParts'] = clean_df['RecipeIngredientParts'].str.replace(r'^c|[()]', '', regex=True)

# Remove "c" at the beginning and parentheses from each value in the "RecipeIngredientParts" column
clean_df['Keywords'] = clean_df['Keywords'].str.replace(r'^c|[()]', '', regex=True)
clean_df['RecipeIngredientQuantities'] = clean_df['RecipeIngredientQuantities'].str.replace(r'^c|[()]', '', regex=True)
clean_df['RecipeIngredientParts'] = clean_df['RecipeIngredientParts'].str.replace(r'^c|[()]', '', regex=True)
clean_df['RecipeInstructions'] = clean_df['RecipeInstructions'].str.replace(r'^c|[()]', '', regex=True)
clean_df['Images'] = clean_df['Images'].str.replace(r'^c|[()]', '', regex=True)


# Split the strings by comma, explode the resulting lists, and get unique items
keyword_item = clean_df['Keywords'].str.split(',').explode().str.strip().unique()

# Convert to list
keyword_item_list = keyword_item.tolist()

# Print the length of the list
print("Number of unique items:", len(keyword_item_list))


# Clean up each string (remove leading/trailing spaces, convert to lowercase, and strip double quotes) before converting to set
unique_keyword_item_set = set(map(lambda x: x.strip().lower().strip('"'), keyword_item_list))



# Convert the set back to a list if needed
unique_keyword_item_list = list(unique_keyword_item_set)

# Print the length of the list
print("Number of unique items:", len(unique_keyword_item_list))


# Print the entire list
unique_keyword_item_list


# Iterate through the list and print keywords containing "low", "high", or "quick"
for keyword in unique_keyword_item_list:
    if "vegan" in keyword or "low sodium" in keyword or "low carbs" in keyword or "low cholesterol" in keyword or "high protein" in keyword or "low protein" in keyword:
        print(keyword)


# Define the substrings of interest
substrings_of_interest = ["vegan", "low sodium", "low carbs", "low cholesterol", "high protein", "low protein"]

# Initialize a dictionary to store the counts
substring_counts = {substring: 0 for substring in substrings_of_interest}

# Iterate through the list and count keywords containing the specified substrings
for keyword in unique_keyword_item_list:
    for substring in substrings_of_interest:
        if substring in keyword:
            substring_counts[substring] += 1

# Print the counts for each substring
for substring, count in substring_counts.items():
    print(f"Count of '{substring}': {count}")


# Define the substrings of interest
substrings_of_interest = ["pizza", "beef", "chicken", "turkey", "pork", "ribs", "rib", "steak", "salmon", "cod", "mahi mahi"]

# Initialize a dictionary to store the counts
substring_counts = {substring: 0 for substring in substrings_of_interest}

# Iterate through the list and count keywords containing the specified substrings
for keyword in unique_keyword_item_list:
    for substring in substrings_of_interest:
        if substring in keyword:
            substring_counts[substring] += 1

# Print the counts for each substring
for substring, count in substring_counts.items():
    print(f"Count of '{substring}': {count}")





# print("Number of unique keywords:", num_unique_keywords)
# # Print the first 500 unique keywords
# print("Unique keywords:")
# for idx, keyword in enumerate(unique_keywords):
#     if idx < 500:
#         print(keyword)
#     else:
#         break


clean_df.head()



# Extract the recipe ingredients from the "RecipeIngredientParts" column
ingredients_series = clean_df['RecipeIngredientParts']

# Split the ingredients into individual items
ingredients_split = ingredients_series.str.split(',')

# Create a list of unique ingredients
unique_ingredients = []
for ingredients in ingredients_split:
    if isinstance(ingredients, list):
        for ingredient in ingredients:
            ingredient = ingredient.strip()
            if ingredient not in unique_ingredients and ingredient != '':
                unique_ingredients.append(ingredient)


# Create a DataFrame with columns representing unique ingredients
ingredient_df = pd.DataFrame(0, index=clean_df.index, columns=unique_ingredients)

# Populate the DataFrame with 1 where ingredient is present in the recipe
for ingredient in unique_ingredients:
    ingredient_df[ingredient] = ingredients_series.str.contains(ingredient, na=False, regex=False).astype(int)



recipes = pd.concat([clean_df, ingredient_df], axis=1)


recipes.head()


# Melt the DataFrame to convert ingredient columns into rows
melted_df = recipes.melt(var_name='Ingredient', value_name='Present')

# Filter out rows where ingredient is present
present_ingredients = melted_df[melted_df['Present'] == 1]

# Count the occurrences of each ingredient
ingredient_counts = present_ingredients['Ingredient'].value_counts().reset_index()

# Rename columns
ingredient_counts.columns = ['Ingredient', 'Count']


# Define the thresholds for each category
category_thresholds = {
    'low sodium': 140,    # Daily recommended intake for low sodium
    'low calorie': 200,   # Arbitrary threshold for low calorie
    'high protein': 20,   # Arbitrary threshold for high protein
    'low fat': 3,         # Arbitrary threshold for low fat
    'high fat': 20,       # Arbitrary threshold for high fat
    'high fiber': 5,      # Arbitrary threshold for high fiber
    'low carb': 20,       # Arbitrary threshold for low carb
    'low cholesterol': 20, # Arbitrary threshold for low cholesterol
    'low sugar': 5        # Arbitrary threshold for low sugar
}


# Create new columns for each category and assign boolean values based on thresholds
for category, threshold in category_thresholds.items():
    recipes[category] = False
    if category == 'low sodium':
        recipes.loc[recipes['SodiumContent'] < threshold, category] = True
    elif category == 'low calorie':
        recipes.loc[recipes['Calories'] < threshold, category] = True
    elif category == 'high protein':
        recipes.loc[recipes['ProteinContent'] > threshold, category] = True
    elif category == 'low fat':
        recipes.loc[recipes['FatContent'] < threshold, category] = True
    elif category == 'high fat':
        recipes.loc[recipes['FatContent'] > threshold, category] = True
    elif category == 'high fiber':
        recipes.loc[recipes['FiberContent'] > threshold, category] = True
    elif category == 'low carb':
        recipes.loc[recipes['CarbohydrateContent'] < threshold, category] = True
    elif category == 'low cholesterol':
        recipes.loc[recipes['CholesterolContent'] < threshold, category] = True
    elif category == 'low sugar':
        recipes.loc[recipes['SugarContent'] < threshold, category] = True


# Drop all columns except the newly created category columns
columns_to_keep = ["Name"] + list(category_thresholds.keys())
recipes2 = recipes[columns_to_keep]


# Function to determine the category for each recipe
def determine_category(row):
    for category, threshold in category_thresholds.items():
        if category == 'low sodium':
            if row['SodiumContent'] < threshold:
                return category
        elif category == 'low calorie':
            if row['Calories'] < threshold:
                return category
        elif category == 'high protein':
            if row['ProteinContent'] > threshold:
                return category
        elif category == 'low fat':
            if row['FatContent'] < threshold:
                return category
        elif category == 'high fat':
            if row['FatContent'] > threshold:
                return category
        elif category == 'high fiber':
            if row['FiberContent'] > threshold:
                return category
        elif category == 'low carb':
            if row['CarbohydrateContent'] < threshold:
                return category
        elif category == 'low cholesterol':
            if row['CholesterolContent'] < threshold:
                return category
        elif category == 'low sugar':
            if row['SugarContent'] < threshold:
                return category
    # If no category is assigned, return None
    return None

# Apply the determine_category function to each row to determine the category for each recipe
recipes['AssignedCategory'] = recipes.apply(determine_category, axis=1)


recipes.head()





# Adding Health Keywords to Keywords column
# Define the criteria for adding keywords
criteria = (
    recipes['FiberContent'] > 5
) | (
    recipes['RecipeCategory'].str.contains('High In', na=False)
) | (
    recipes['ProteinContent'] > 20
) | (
    recipes['RecipeCategory'].str.contains('Homeopathy/Remedies', na=False)
) | (
    recipes['RecipeCategory'].str.contains('Kid Friendly', na=False)
) | (
    recipes['RecipeCategory'].str.contains('Lactose Free', na=False)
) | (
    recipes['RecipeCategory'].str.contains('Low Cholesterol', na=False)
) | (
    recipes['RecipeCategory'].str.contains('Low Protein', na=False)
) | (
    recipes['RecipeCategory'].str.contains('No Shell Fish', na=False)
) | (
    recipes['RecipeCategory'].str.contains('Soy/Tofu', na=False)
) | (
    recipes['CarbohydrateContent'] < 5
) | (
    recipes['RecipeCategory'].str.contains('High In.*Diabetic Friendly', na=False)
) | (
    recipes['RecipeCategory'].str.contains('Bath/Beauty', na=False)
) | (
    recipes['RecipeCategory'].str.contains('Egg Free', na=False)
) | (
    recipes['RecipeCategory'].str.contains('Healthy', na=False)
) | (
    recipes['RecipeCategory'].str.contains('Kosher', na=False)
) | (
    recipes['RecipeCategory'].str.contains('Toddler Friendly', na=False)
) | (
    recipes['RecipeCategory'].str.contains('Vegan', na=False)
) | (
    recipes['RecipeCategory'].str.contains('Vegetable', na=False)
)


# Add the specified keywords to the Keywords column for recipes that meet the criteria
clean_df.loc[criteria, 'Keywords'] = recipes.loc[criteria, 'Keywords'] + ', "High Fiber", "High Protein", "Homeopathy/Remedies", "Kid Friendly", "Lactose Free", "Low Cholesterol", "Low Protein", "No Shell Fish", "Soy/Tofu", "Very Low Carbs", "Diabetic Friendly", "Bath/Beauty", "Egg Free", "Healthy", "Kosher", "Toddler Friendly", "Vegan", "Vegetable"'





# Save clean data to a new JSON file
clean_df.to_json("data/clean/cleanSamplerecipes.json", orient="records")


# Save clean data to a new CSV file
clean_df.to_csv("data/clean/cleanSamplerecipes.csv", index=False)









