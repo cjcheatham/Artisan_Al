version https://git-lfs.github.com/spec/v1
oid sha256:c8bd9dcbe74daf01ba5ed9952dd7be9db57f7e69713fe0cc50346c4e61b47a83
size 736813
