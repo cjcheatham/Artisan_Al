version https://git-lfs.github.com/spec/v1
oid sha256:4b387ccf6a7b59da6ffe1754eb509bc9b015e04f5418f7f1e552502a7c159de8
size 152755
