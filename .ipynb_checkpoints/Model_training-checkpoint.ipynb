{
 "cells": [
  {
   "cell_type": "code",
   "execution_count": 1,
   "id": "3212168e-c81d-473a-8b1d-83b556095aa9",
   "metadata": {},
   "outputs": [
    {
     "name": "stdout",
     "output_type": "stream",
     "text": [
      "<class 'pandas.core.frame.DataFrame'>\n",
      "RangeIndex: 4998 entries, 0 to 4997\n",
      "Data columns (total 33 columns):\n",
      " #   Column                      Non-Null Count  Dtype  \n",
      "---  ------                      --------------  -----  \n",
      " 0   RecipeId                    4998 non-null   int64  \n",
      " 1   Name                        4998 non-null   object \n",
      " 2   TotalTime                   4998 non-null   object \n",
      " 3   Description                 4998 non-null   object \n",
      " 4   Images                      4998 non-null   object \n",
      " 5   RecipeCategory              4998 non-null   object \n",
      " 6   Keywords                    4998 non-null   object \n",
      " 7   RecipeIngredientQuantities  4998 non-null   object \n",
      " 8   RecipeIngredientParts       4998 non-null   object \n",
      " 9   AggregatedRating            4998 non-null   float64\n",
      " 10  ReviewCount                 4998 non-null   float64\n",
      " 11  Calories                    4998 non-null   float64\n",
      " 12  FatContent                  4998 non-null   float64\n",
      " 13  SaturatedFatContent         4998 non-null   float64\n",
      " 14  CholesterolContent          4998 non-null   float64\n",
      " 15  SodiumContent               4998 non-null   float64\n",
      " 16  CarbohydrateContent         4998 non-null   float64\n",
      " 17  FiberContent                4998 non-null   float64\n",
      " 18  SugarContent                4998 non-null   float64\n",
      " 19  ProteinContent              4998 non-null   float64\n",
      " 20  RecipeServings              4998 non-null   float64\n",
      " 21  RecipeInstructions          4998 non-null   object \n",
      " 22  URL                         4998 non-null   object \n",
      " 23  Low Sodium                  4998 non-null   bool   \n",
      " 24  Low Calorie                 4998 non-null   bool   \n",
      " 25  High Protein                4998 non-null   bool   \n",
      " 26  Low Fat                     4998 non-null   bool   \n",
      " 27  High Fat                    4998 non-null   bool   \n",
      " 28  High Fiber                  4998 non-null   bool   \n",
      " 29  Low Carb                    4998 non-null   bool   \n",
      " 30  Low Cholesterol             4998 non-null   bool   \n",
      " 31  Low Sugar                   4998 non-null   bool   \n",
      " 32  AssignedCategory            4681 non-null   object \n",
      "dtypes: bool(9), float64(12), int64(1), object(11)\n",
      "memory usage: 981.2+ KB\n"
     ]
    }
   ],
   "source": [
    "# Importing necessary libraries\n",
    "from sklearn.model_selection import train_test_split, GridSearchCV\n",
    "from sklearn.ensemble import RandomForestClassifier\n",
    "from sklearn.metrics import classification_report, accuracy_score\n",
    "import matplotlib.pyplot as plt\n",
    "import numpy as np\n",
    "import pandas as pd\n",
    "import joblib\n",
    "import time\n",
    "\n",
    "# Read the CSV file into a Pandas DataFrame\n",
    "ML_test_df = pd.read_csv(\"data/clean/ML_test_recipes.csv\")\n",
    "ML_test_df.info()"
   ]
  },
  {
   "cell_type": "code",
   "execution_count": 2,
   "id": "e376ed47-5632-4361-9387-49596dc15d56",
   "metadata": {},
   "outputs": [
    {
     "name": "stdout",
     "output_type": "stream",
     "text": [
      "<class 'pandas.core.frame.DataFrame'>\n",
      "RangeIndex: 4998 entries, 0 to 4997\n",
      "Data columns (total 20 columns):\n",
      " #   Column               Non-Null Count  Dtype  \n",
      "---  ------               --------------  -----  \n",
      " 0   RecipeId             4998 non-null   int64  \n",
      " 1   Calories             4998 non-null   float64\n",
      " 2   FatContent           4998 non-null   float64\n",
      " 3   SaturatedFatContent  4998 non-null   float64\n",
      " 4   CholesterolContent   4998 non-null   float64\n",
      " 5   SodiumContent        4998 non-null   float64\n",
      " 6   CarbohydrateContent  4998 non-null   float64\n",
      " 7   FiberContent         4998 non-null   float64\n",
      " 8   SugarContent         4998 non-null   float64\n",
      " 9   ProteinContent       4998 non-null   float64\n",
      " 10  RecipeServings       4998 non-null   float64\n",
      " 11  Low Sodium           4998 non-null   bool   \n",
      " 12  Low Calorie          4998 non-null   bool   \n",
      " 13  High Protein         4998 non-null   bool   \n",
      " 14  Low Fat              4998 non-null   bool   \n",
      " 15  High Fat             4998 non-null   bool   \n",
      " 16  High Fiber           4998 non-null   bool   \n",
      " 17  Low Carb             4998 non-null   bool   \n",
      " 18  Low Cholesterol      4998 non-null   bool   \n",
      " 19  Low Sugar            4998 non-null   bool   \n",
      "dtypes: bool(9), float64(10), int64(1)\n",
      "memory usage: 473.6 KB\n"
     ]
    }
   ],
   "source": [
    "# Create a new DataFrame named description_df[] from new_data\n",
    "training_df = ML_test_df[[\"RecipeId\", \"Calories\", \"FatContent\", \"SaturatedFatContent\",\"CholesterolContent\", \n",
    "                           \"SodiumContent\", \"CarbohydrateContent\", \"FiberContent\",\"SugarContent\",\n",
    "                           \"ProteinContent\", \"RecipeServings\", \"Low Sodium\", \"Low Calorie\",\"High Protein\",\n",
    "                           \"Low Fat\", \"High Fat\", \"High Fiber\", \"Low Carb\",\"Low Cholesterol\", \"Low Sugar\"\n",
    "                           ]].copy()\n",
    " \n",
    "# Save it to a CSV file\n",
    "training_df.info()"
   ]
  },
  {
   "cell_type": "code",
   "execution_count": 3,
   "id": "9a9b7b96-258d-4905-91bf-957d3cc0bd7c",
   "metadata": {},
   "outputs": [],
   "source": [
    "# Save it to a CSV file\n",
    "training_df.to_csv(\"data/SQL_Data/receipt_description.csv\", index=False)"
   ]
  },
  {
   "cell_type": "code",
   "execution_count": 4,
   "id": "047eceaf-702d-406a-95d7-c19be2a48df9",
   "metadata": {},
   "outputs": [],
   "source": [
    "from pyspark.sql import SparkSession\n",
    "\n",
    "# Create a SparkSession\n",
    "spark = SparkSession.builder \\\n",
    "    .appName(\"ML Training\") \\\n",
    "    .getOrCreate()\n",
    "\n",
    "# Load data from CSV using Spark\n",
    "df = spark.read.csv(\"data/SQL_Data/receipt_description.csv\", header=True, inferSchema=True)\n",
    "\n",
    "# Convert Spark DataFrame to Pandas DataFrame\n",
    "ML_test_df = df.toPandas()\n",
    "\n",
    "# Stop the SparkSession\n",
    "spark.stop()"
   ]
  },
  {
   "cell_type": "code",
   "execution_count": 5,
   "id": "25c92d68-547d-4ee6-9988-c2a6dd1d78c9",
   "metadata": {},
   "outputs": [],
   "source": [
    "# Define features (X) and target variable (y)\n",
    "# Features\n",
    "X = ML_test_df.drop(columns=['Low Sodium', 'Low Calorie', 'High Protein', 'Low Fat', 'High Fat',\t\n",
    "                             'High Fiber', 'Low Carb', 'Low Cholesterol', 'Low Sugar'])\n",
    "# Labels for multiple health attributes\n",
    "y = ML_test_df[['Low Sodium', 'Low Calorie', 'High Protein', 'Low Fat',\t'High Fat',\t'High Fiber', \n",
    "                'Low Carb', 'Low Cholesterol', 'Low Sugar']]  # Target variable\n",
    "\n",
    "# Splitting the data into training and testing sets\n",
    "X_train, X_test, y_train, y_test = train_test_split(X, y, test_size=0.2, random_state=42)"
   ]
  },
  {
   "cell_type": "code",
   "execution_count": 6,
   "id": "31138f1c-ee22-4c43-bbe5-2564c4c55482",
   "metadata": {},
   "outputs": [],
   "source": [
    "# Model Selection with Hyperparameter Tuning using GridSearchCV\n",
    "param_grid = {\n",
    "    'n_estimators': [100, 200, 300],\n",
    "    'max_depth': [None, 10, 20],\n",
    "    'min_samples_split': [2, 5, 10],\n",
    "    'min_samples_leaf': [1, 2, 4]\n",
    "}\n",
    "\n",
    "grid_search = GridSearchCV(RandomForestClassifier(), param_grid, cv=5, n_jobs=-1)\n",
    "grid_search.fit(X_train, y_train)\n",
    "\n",
    "best_model = grid_search.best_estimator_"
   ]
  },
  {
   "cell_type": "code",
   "execution_count": 7,
   "id": "04499616-aa01-4ed7-8496-3b66bacde205",
   "metadata": {},
   "outputs": [
    {
     "data": {
      "text/html": [
       "<style>#sk-container-id-1 {color: black;background-color: white;}#sk-container-id-1 pre{padding: 0;}#sk-container-id-1 div.sk-toggleable {background-color: white;}#sk-container-id-1 label.sk-toggleable__label {cursor: pointer;display: block;width: 100%;margin-bottom: 0;padding: 0.3em;box-sizing: border-box;text-align: center;}#sk-container-id-1 label.sk-toggleable__label-arrow:before {content: \"▸\";float: left;margin-right: 0.25em;color: #696969;}#sk-container-id-1 label.sk-toggleable__label-arrow:hover:before {color: black;}#sk-container-id-1 div.sk-estimator:hover label.sk-toggleable__label-arrow:before {color: black;}#sk-container-id-1 div.sk-toggleable__content {max-height: 0;max-width: 0;overflow: hidden;text-align: left;background-color: #f0f8ff;}#sk-container-id-1 div.sk-toggleable__content pre {margin: 0.2em;color: black;border-radius: 0.25em;background-color: #f0f8ff;}#sk-container-id-1 input.sk-toggleable__control:checked~div.sk-toggleable__content {max-height: 200px;max-width: 100%;overflow: auto;}#sk-container-id-1 input.sk-toggleable__control:checked~label.sk-toggleable__label-arrow:before {content: \"▾\";}#sk-container-id-1 div.sk-estimator input.sk-toggleable__control:checked~label.sk-toggleable__label {background-color: #d4ebff;}#sk-container-id-1 div.sk-label input.sk-toggleable__control:checked~label.sk-toggleable__label {background-color: #d4ebff;}#sk-container-id-1 input.sk-hidden--visually {border: 0;clip: rect(1px 1px 1px 1px);clip: rect(1px, 1px, 1px, 1px);height: 1px;margin: -1px;overflow: hidden;padding: 0;position: absolute;width: 1px;}#sk-container-id-1 div.sk-estimator {font-family: monospace;background-color: #f0f8ff;border: 1px dotted black;border-radius: 0.25em;box-sizing: border-box;margin-bottom: 0.5em;}#sk-container-id-1 div.sk-estimator:hover {background-color: #d4ebff;}#sk-container-id-1 div.sk-parallel-item::after {content: \"\";width: 100%;border-bottom: 1px solid gray;flex-grow: 1;}#sk-container-id-1 div.sk-label:hover label.sk-toggleable__label {background-color: #d4ebff;}#sk-container-id-1 div.sk-serial::before {content: \"\";position: absolute;border-left: 1px solid gray;box-sizing: border-box;top: 0;bottom: 0;left: 50%;z-index: 0;}#sk-container-id-1 div.sk-serial {display: flex;flex-direction: column;align-items: center;background-color: white;padding-right: 0.2em;padding-left: 0.2em;position: relative;}#sk-container-id-1 div.sk-item {position: relative;z-index: 1;}#sk-container-id-1 div.sk-parallel {display: flex;align-items: stretch;justify-content: center;background-color: white;position: relative;}#sk-container-id-1 div.sk-item::before, #sk-container-id-1 div.sk-parallel-item::before {content: \"\";position: absolute;border-left: 1px solid gray;box-sizing: border-box;top: 0;bottom: 0;left: 50%;z-index: -1;}#sk-container-id-1 div.sk-parallel-item {display: flex;flex-direction: column;z-index: 1;position: relative;background-color: white;}#sk-container-id-1 div.sk-parallel-item:first-child::after {align-self: flex-end;width: 50%;}#sk-container-id-1 div.sk-parallel-item:last-child::after {align-self: flex-start;width: 50%;}#sk-container-id-1 div.sk-parallel-item:only-child::after {width: 0;}#sk-container-id-1 div.sk-dashed-wrapped {border: 1px dashed gray;margin: 0 0.4em 0.5em 0.4em;box-sizing: border-box;padding-bottom: 0.4em;background-color: white;}#sk-container-id-1 div.sk-label label {font-family: monospace;font-weight: bold;display: inline-block;line-height: 1.2em;}#sk-container-id-1 div.sk-label-container {text-align: center;}#sk-container-id-1 div.sk-container {/* jupyter's `normalize.less` sets `[hidden] { display: none; }` but bootstrap.min.css set `[hidden] { display: none !important; }` so we also need the `!important` here to be able to override the default hidden behavior on the sphinx rendered scikit-learn.org. See: https://github.com/scikit-learn/scikit-learn/issues/21755 */display: inline-block !important;position: relative;}#sk-container-id-1 div.sk-text-repr-fallback {display: none;}</style><div id=\"sk-container-id-1\" class=\"sk-top-container\"><div class=\"sk-text-repr-fallback\"><pre>RandomForestClassifier(max_depth=10, min_samples_split=5, n_estimators=300)</pre><b>In a Jupyter environment, please rerun this cell to show the HTML representation or trust the notebook. <br />On GitHub, the HTML representation is unable to render, please try loading this page with nbviewer.org.</b></div><div class=\"sk-container\" hidden><div class=\"sk-item\"><div class=\"sk-estimator sk-toggleable\"><input class=\"sk-toggleable__control sk-hidden--visually\" id=\"sk-estimator-id-1\" type=\"checkbox\" checked><label for=\"sk-estimator-id-1\" class=\"sk-toggleable__label sk-toggleable__label-arrow\">RandomForestClassifier</label><div class=\"sk-toggleable__content\"><pre>RandomForestClassifier(max_depth=10, min_samples_split=5, n_estimators=300)</pre></div></div></div></div></div>"
      ],
      "text/plain": [
       "RandomForestClassifier(max_depth=10, min_samples_split=5, n_estimators=300)"
      ]
     },
     "execution_count": 7,
     "metadata": {},
     "output_type": "execute_result"
    }
   ],
   "source": [
    "# Start the timer\n",
    "start_time = time.time()\n",
    "\n",
    "# Training the Best Model\n",
    "best_model.fit(X_train, y_train)"
   ]
  },
  {
   "cell_type": "code",
   "execution_count": 8,
   "id": "f5a5e1bb-194a-416c-9c4c-1e1e9718db31",
   "metadata": {},
   "outputs": [
    {
     "name": "stdout",
     "output_type": "stream",
     "text": [
      "Training duration: 3.8851122856140137 seconds\n",
      "Classification Report:\n",
      "              precision    recall  f1-score   support\n",
      "\n",
      "           0       1.00      1.00      1.00       276\n",
      "           1       1.00      1.00      1.00       293\n",
      "           2       1.00      1.00      1.00       304\n",
      "           3       1.00      0.98      0.99       167\n",
      "           4       1.00      1.00      1.00       338\n",
      "           5       0.00      0.00      0.00         0\n",
      "           6       0.99      1.00      1.00       394\n",
      "           7       1.00      1.00      1.00       398\n",
      "           8       1.00      1.00      1.00       422\n",
      "\n",
      "   micro avg       1.00      1.00      1.00      2592\n",
      "   macro avg       0.89      0.89      0.89      2592\n",
      "weighted avg       1.00      1.00      1.00      2592\n",
      " samples avg       0.92      0.92      0.92      2592\n",
      "\n",
      "Accuracy of Random Forest classifier: 0.993\n"
     ]
    },
    {
     "name": "stderr",
     "output_type": "stream",
     "text": [
      "C:\\Users\\vivi4\\anaconda3\\Lib\\site-packages\\sklearn\\metrics\\_classification.py:1344: UndefinedMetricWarning: Precision and F-score are ill-defined and being set to 0.0 in labels with no predicted samples. Use `zero_division` parameter to control this behavior.\n",
      "  _warn_prf(average, modifier, msg_start, len(result))\n",
      "C:\\Users\\vivi4\\anaconda3\\Lib\\site-packages\\sklearn\\metrics\\_classification.py:1344: UndefinedMetricWarning: Recall and F-score are ill-defined and being set to 0.0 in labels with no true samples. Use `zero_division` parameter to control this behavior.\n",
      "  _warn_prf(average, modifier, msg_start, len(result))\n",
      "C:\\Users\\vivi4\\anaconda3\\Lib\\site-packages\\sklearn\\metrics\\_classification.py:1344: UndefinedMetricWarning: Precision and F-score are ill-defined and being set to 0.0 in samples with no predicted labels. Use `zero_division` parameter to control this behavior.\n",
      "  _warn_prf(average, modifier, msg_start, len(result))\n",
      "C:\\Users\\vivi4\\anaconda3\\Lib\\site-packages\\sklearn\\metrics\\_classification.py:1344: UndefinedMetricWarning: Recall and F-score are ill-defined and being set to 0.0 in samples with no true labels. Use `zero_division` parameter to control this behavior.\n",
      "  _warn_prf(average, modifier, msg_start, len(result))\n"
     ]
    }
   ],
   "source": [
    "# End the timer and calculate the duration\n",
    "training_duration = time.time() - start_time\n",
    "\n",
    "# Make predictions\n",
    "y_pred = best_model.predict(X_test)\n",
    "\n",
    "# # Model Evaluation\n",
    "print(\"Training duration:\", training_duration, \"seconds\")\n",
    "print(\"Classification Report:\")\n",
    "print(classification_report(y_test, y_pred))\n",
    "\n",
    "# Calculating the accuracy of the model\n",
    "accuracy = accuracy_score(y_test, y_pred)\n",
    "print(\"Accuracy of Random Forest classifier:\", accuracy)"
   ]
  },
  {
   "cell_type": "code",
   "execution_count": 9,
   "id": "b65188d9-1755-44fd-be47-e22d471404c8",
   "metadata": {},
   "outputs": [
    {
     "data": {
      "image/png": "[encoded data removed]",
      "text/plain": [
       "<Figure size 1200x600 with 1 Axes>"
      ]
     },
     "metadata": {},
     "output_type": "display_data"
    }
   ],
   "source": [
    "# Class labels\n",
    "classes = ['Low Sodium', 'Low Calorie', 'High Protein', 'Low Fat', 'High Fat', \n",
    "           'High Fiber', 'Low Carb', 'Low Cholesterol', 'Low Sugar']\n",
    "\n",
    "# Precision, recall, and F1-score values for each class\n",
    "precision = [0.99, 1.00, 1.00, 1.00, 1.00, 1.00, 1.00, 1.00, 1.00]\n",
    "recall = [0.95, 0.99, 0.99, 0.88, 0.98, 0.91, 0.99, 1.00, 1.00]\n",
    "f1_score = [0.97, 0.99, 0.99, 0.94, 0.99, 0.95, 0.99, 1.00, 1.00]\n",
    "\n",
    "# Set width of bar\n",
    "bar_width = 0.25\n",
    "\n",
    "# Set position of bar on X axis\n",
    "r1 = np.arange(len(precision))\n",
    "r2 = [x + bar_width for x in r1]\n",
    "r3 = [x + bar_width for x in r2]\n",
    "\n",
    "# Make the plot\n",
    "plt.figure(figsize=(12, 6))\n",
    "plt.bar(r1, precision, color='b', width=bar_width, edgecolor='grey', label='Precision')\n",
    "plt.bar(r2, recall, color='g', width=bar_width, edgecolor='grey', label='Recall')\n",
    "plt.bar(r3, f1_score, color='r', width=bar_width, edgecolor='grey', label='F1-score')\n",
    "\n",
    "# Add xticks on the middle of the group bars\n",
    "plt.xlabel('Class', fontweight='bold')\n",
    "plt.xticks([r + bar_width for r in range(len(precision))], classes, rotation=45)\n",
    "\n",
    "# Add y label\n",
    "plt.ylabel('Scores', fontweight='bold')\n",
    "\n",
    "# Create legend & Show graphic\n",
    "plt.legend()\n",
    "plt.title('Classification Metrics by Class')\n",
    "plt.tight_layout()\n",
    "plt.show()"
   ]
  },
  {
   "cell_type": "code",
   "execution_count": 10,
   "id": "9a25f368-0d06-4d7a-bbb9-f0b2ad7481d3",
   "metadata": {},
   "outputs": [
    {
     "data": {
      "text/plain": [
       "['data/MLmodel/best_model.pkl']"
      ]
     },
     "execution_count": 10,
     "metadata": {},
     "output_type": "execute_result"
    }
   ],
   "source": [
    "# Save the best model to a file\n",
    "joblib.dump(best_model, 'data/MLmodel/best_model.pkl')"
   ]
  },
  {
   "cell_type": "code",
   "execution_count": null,
   "id": "62e18a92-311a-4326-bca1-7fbd006d3344",
   "metadata": {},
   "outputs": [],
   "source": []
  },
  {
   "cell_type": "code",
   "execution_count": null,
   "id": "e198d841-69d8-4f6c-b658-4df954648cec",
   "metadata": {},
   "outputs": [],
   "source": []
  }
 ],
 "metadata": {
  "kernelspec": {
   "display_name": "Python 3 (ipykernel)",
   "language": "python",
   "name": "python3"
  },
  "language_info": {
   "codemirror_mode": {
    "name": "ipython",
    "version": 3
   },
   "file_extension": ".py",
   "mimetype": "text/x-python",
   "name": "python",
   "nbconvert_exporter": "python",
   "pygments_lexer": "ipython3",
   "version": "3.11.4"
  }
 },
 "nbformat": 4,
 "nbformat_minor": 5
}
